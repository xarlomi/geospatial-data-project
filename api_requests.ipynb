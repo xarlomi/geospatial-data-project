{
 "cells": [
  {
   "cell_type": "markdown",
   "metadata": {},
   "source": [
    "## Filtering data from API Requests"
   ]
  },
  {
   "cell_type": "code",
   "execution_count": 401,
   "metadata": {},
   "outputs": [],
   "source": [
    "import requests\n",
    "import json\n",
    "from dotenv import load_dotenv\n",
    "import os\n",
    "import pandas as pd\n",
    "from pymongo import MongoClient \n",
    "import geopandas as gdp\n",
    "import folium\n",
    "from folium import Choropleth, Circle, Marker, Icon, Map\n",
    "from folium.plugins import HeatMap, MarkerCluster\n",
    "from functools import reduce\n",
    "import operator"
   ]
  },
  {
   "cell_type": "code",
   "execution_count": 402,
   "metadata": {},
   "outputs": [],
   "source": [
    "client = MongoClient()\n",
    "db = client.crunchbase\n",
    "companies = db.companies\n",
    "offices = db.offices\n",
    "starbucks = db.starbucks\n",
    "starbucks1 = db.starbucks1"
   ]
  },
  {
   "cell_type": "code",
   "execution_count": 403,
   "metadata": {},
   "outputs": [
    {
     "data": {
      "text/plain": [
       "True"
      ]
     },
     "execution_count": 403,
     "metadata": {},
     "output_type": "execute_result"
    }
   ],
   "source": [
    "load_dotenv()"
   ]
  },
  {
   "cell_type": "code",
   "execution_count": 404,
   "metadata": {},
   "outputs": [
    {
     "name": "stdout",
     "output_type": "stream",
     "text": [
      "0UGDAD3T53PSEKRJRXPVE52FWO0T35OO3SNGTV41HLOL42BV\n",
      "CWRVBC1CFSU4KS5C4CINS44MYLUYK244LY4T1U1R51KDJ504\n"
     ]
    }
   ],
   "source": [
    "token1=os.getenv(\"tok1\")\n",
    "print(token1)\n",
    "token2=os.getenv(\"tok2\")\n",
    "print(token2)"
   ]
  },
  {
   "cell_type": "markdown",
   "metadata": {},
   "source": [
    "### 1. Api Requests"
   ]
  },
  {
   "cell_type": "code",
   "execution_count": 405,
   "metadata": {},
   "outputs": [],
   "source": [
    "url = \"https://favqs.com/api/session\""
   ]
  },
  {
   "cell_type": "code",
   "execution_count": 406,
   "metadata": {},
   "outputs": [],
   "source": [
    "netbiscuits = {'type': 'Point', 'coordinates': [-122.4264417, 37.7550372] }"
   ]
  },
  {
   "cell_type": "code",
   "execution_count": 407,
   "metadata": {},
   "outputs": [],
   "source": [
    "ecolect = {'type': 'Point', 'coordinates': [-122.410111, 37.776769] }"
   ]
  },
  {
   "cell_type": "code",
   "execution_count": 408,
   "metadata": {},
   "outputs": [],
   "source": [
    "popego = {'type': 'Point', 'coordinates': [-122.421242, 37.778687]}"
   ]
  },
  {
   "cell_type": "code",
   "execution_count": 435,
   "metadata": {},
   "outputs": [],
   "source": [
    "digg = {'type': 'Point', 'coordinates': [-122.394523, 37.764726] }"
   ]
  },
  {
   "cell_type": "code",
   "execution_count": 410,
   "metadata": {},
   "outputs": [],
   "source": [
    "url_query = 'https://api.foursquare.com/v2/venues/explore'\n",
    "karaoke = \"5744ccdfe4b0c0459246b4bb\"\n",
    "music_venue = \"4bf58dd8d48988d1e5931735\""
   ]
  },
  {
   "cell_type": "code",
   "execution_count": 645,
   "metadata": {},
   "outputs": [],
   "source": [
    "def CallApi(point):\n",
    "    parametros = {\"client_id\" : f\"{token1}\",\n",
    "              \"client_secret\" : f\"{token2}\",\n",
    "              \"v\": \"20180323\",\n",
    "              \"ll\": f\"{point.get('coordinates')[1]},{point.get('coordinates')[0]}\",\n",
    "              \"query\":\"rock climbing spot\",\n",
    "              \"limit\": 100 \n",
    "}\n",
    "    resp = requests.get(url= url_query, params= parametros)\n",
    "    data = json.loads(resp.text)\n",
    "    return data"
   ]
  },
  {
   "cell_type": "code",
   "execution_count": 465,
   "metadata": {},
   "outputs": [],
   "source": [
    "net_nur = CallApi(netbiscuits)\n",
    "net_nur= net_nur.get(\"response\")\n",
    "net_nur = net_nur.get(\"groups\")[0]\n",
    "net_nur= net_nur.get(\"items\")"
   ]
  },
  {
   "cell_type": "code",
   "execution_count": 432,
   "metadata": {},
   "outputs": [],
   "source": [
    "eco_nur = CallApi(ecolect)\n",
    "eco_nur = eco_nur.get(\"response\")\n",
    "eco_nur = eco_nur.get(\"groups\")[0]\n",
    "eco_nur = eco_nur.get(\"items\")"
   ]
  },
  {
   "cell_type": "code",
   "execution_count": 449,
   "metadata": {},
   "outputs": [],
   "source": [
    "po_call = CallApi(popego)\n",
    "detracting = po_call.get(\"response\")\n",
    "detract = detracting.get(\"groups\")[0]\n",
    "po_nurs = detract.get(\"items\")"
   ]
  },
  {
   "cell_type": "code",
   "execution_count": 436,
   "metadata": {},
   "outputs": [],
   "source": [
    "digg_nur = CallApi(digg)\n",
    "digg_nur= digg_nur.get(\"response\")\n",
    "digg_nur = digg_nur.get(\"groups\")[0]\n",
    "digg_nur = digg_nur.get(\"items\")"
   ]
  },
  {
   "cell_type": "markdown",
   "metadata": {},
   "source": [
    "***Accesing nested dictionnaries:*** "
   ]
  },
  {
   "cell_type": "code",
   "execution_count": 451,
   "metadata": {},
   "outputs": [],
   "source": [
    "venue_name = [\"venue\", \"name\"]\n",
    "v_lat = [\"venue\", \"location\", \"lat\"]\n",
    "v_lng = [\"venue\", \"location\", \"lng\"]"
   ]
  },
  {
   "cell_type": "code",
   "execution_count": 456,
   "metadata": {},
   "outputs": [],
   "source": [
    "def getValues (dic, maps):\n",
    "    return reduce (operator.getitem,maps,dic)"
   ]
  },
  {
   "cell_type": "code",
   "execution_count": 666,
   "metadata": {},
   "outputs": [],
   "source": [
    "    eco_rock_spotting = []\n",
    "    for dic in eco_rock: \n",
    "        venue_name = [\"venue\", \"name\"]\n",
    "        v_lat = [\"venue\", \"location\", \"lat\"]\n",
    "        v_lng = [\"venue\", \"location\", \"lng\"]\n",
    "        v_dist = [\"venue\", \"location\", \"distance\"]\n",
    "        dicc = {}\n",
    "        dicc[\"name\"] = getValues(dic, venue_name)\n",
    "        dicc[\"latitude\"]= getValues(dic, v_lat)\n",
    "        dicc[\"longitude\"] = getValues(dic, v_lng)\n",
    "        dicc[\"distance\"]= getValues(dic, v_dist)\n",
    "        eco_rock_spotting.append(dicc)"
   ]
  },
  {
   "cell_type": "markdown",
   "metadata": {},
   "source": [
    "### 1.1 Looking for nurseries:"
   ]
  },
  {
   "cell_type": "code",
   "execution_count": 819,
   "metadata": {},
   "outputs": [
    {
     "data": {
      "text/html": [
       "<div>\n",
       "<style scoped>\n",
       "    .dataframe tbody tr th:only-of-type {\n",
       "        vertical-align: middle;\n",
       "    }\n",
       "\n",
       "    .dataframe tbody tr th {\n",
       "        vertical-align: top;\n",
       "    }\n",
       "\n",
       "    .dataframe thead th {\n",
       "        text-align: right;\n",
       "    }\n",
       "</style>\n",
       "<table border=\"1\" class=\"dataframe\">\n",
       "  <thead>\n",
       "    <tr style=\"text-align: right;\">\n",
       "      <th></th>\n",
       "      <th>name</th>\n",
       "      <th>latitude</th>\n",
       "      <th>longitude</th>\n",
       "      <th>distance</th>\n",
       "    </tr>\n",
       "  </thead>\n",
       "  <tbody>\n",
       "    <tr>\n",
       "      <th>0</th>\n",
       "      <td>C5 Children's School</td>\n",
       "      <td>37.778864</td>\n",
       "      <td>-122.414584</td>\n",
       "      <td>586</td>\n",
       "    </tr>\n",
       "    <tr>\n",
       "      <th>1</th>\n",
       "      <td>Judith Baker CD</td>\n",
       "      <td>37.776839</td>\n",
       "      <td>-122.411802</td>\n",
       "      <td>855</td>\n",
       "    </tr>\n",
       "    <tr>\n",
       "      <th>2</th>\n",
       "      <td>Kids by the Bay - Civic Center</td>\n",
       "      <td>37.779430</td>\n",
       "      <td>-122.411819</td>\n",
       "      <td>833</td>\n",
       "    </tr>\n",
       "    <tr>\n",
       "      <th>3</th>\n",
       "      <td>Japanese YWCA Building / Nihonmachi Little Fri...</td>\n",
       "      <td>37.787017</td>\n",
       "      <td>-122.430609</td>\n",
       "      <td>1240</td>\n",
       "    </tr>\n",
       "    <tr>\n",
       "      <th>4</th>\n",
       "      <td>Morning Glory Nursery School</td>\n",
       "      <td>37.776355</td>\n",
       "      <td>-122.443699</td>\n",
       "      <td>1992</td>\n",
       "    </tr>\n",
       "  </tbody>\n",
       "</table>\n",
       "</div>"
      ],
      "text/plain": [
       "                                                name   latitude   longitude  \\\n",
       "0                               C5 Children's School  37.778864 -122.414584   \n",
       "1                                    Judith Baker CD  37.776839 -122.411802   \n",
       "2                     Kids by the Bay - Civic Center  37.779430 -122.411819   \n",
       "3  Japanese YWCA Building / Nihonmachi Little Fri...  37.787017 -122.430609   \n",
       "4                       Morning Glory Nursery School  37.776355 -122.443699   \n",
       "\n",
       "   distance  \n",
       "0       586  \n",
       "1       855  \n",
       "2       833  \n",
       "3      1240  \n",
       "4      1992  "
      ]
     },
     "execution_count": 819,
     "metadata": {},
     "output_type": "execute_result"
    }
   ],
   "source": [
    "dfpo_nurs = pd.DataFrame(po_nursery_spotting)\n",
    "dfpo_nurs.head()"
   ]
  },
  {
   "cell_type": "code",
   "execution_count": 493,
   "metadata": {},
   "outputs": [],
   "source": [
    "dfeco_nurs.insert(4, \"company\", \"Ecolect\")"
   ]
  },
  {
   "cell_type": "code",
   "execution_count": 496,
   "metadata": {},
   "outputs": [],
   "source": [
    "ttl_nursery = [dfnet_nurs, dfpo_nurs, dfdigg_nurs, dfeco_nurs]"
   ]
  },
  {
   "cell_type": "code",
   "execution_count": 497,
   "metadata": {},
   "outputs": [],
   "source": [
    "ofi_nursery = pd.concat(ttl_nursery)"
   ]
  },
  {
   "cell_type": "code",
   "execution_count": 498,
   "metadata": {},
   "outputs": [
    {
     "data": {
      "text/plain": [
       "company\n",
       "Digg            5\n",
       "Ecolect        16\n",
       "Netbiscuits    19\n",
       "Popego         13\n",
       "Name: distance, dtype: int64"
      ]
     },
     "execution_count": 498,
     "metadata": {},
     "output_type": "execute_result"
    }
   ],
   "source": [
    "ofi_nursery.groupby(\"company\")[\"distance\"].count()"
   ]
  },
  {
   "cell_type": "code",
   "execution_count": 499,
   "metadata": {},
   "outputs": [
    {
     "data": {
      "text/plain": [
       "company\n",
       "Digg            828\n",
       "Ecolect         149\n",
       "Netbiscuits    1267\n",
       "Popego          586\n",
       "Name: distance, dtype: int64"
      ]
     },
     "execution_count": 499,
     "metadata": {},
     "output_type": "execute_result"
    }
   ],
   "source": [
    "ofi_nursery.groupby(\"company\")[\"distance\"].min()"
   ]
  },
  {
   "cell_type": "code",
   "execution_count": 500,
   "metadata": {},
   "outputs": [],
   "source": [
    "filt_nursery = ofi_nursery[ofi_nursery['distance'] < 5000]"
   ]
  },
  {
   "cell_type": "code",
   "execution_count": 620,
   "metadata": {},
   "outputs": [],
   "source": [
    "count_nursery = pd.DataFrame(filt_nursery.groupby(\"company\")[\"category\"].count().sort_values())"
   ]
  },
  {
   "cell_type": "code",
   "execution_count": 622,
   "metadata": {},
   "outputs": [],
   "source": [
    "count_nursery.columns = [\"Nurseries < 5000m\"]"
   ]
  },
  {
   "cell_type": "code",
   "execution_count": 501,
   "metadata": {},
   "outputs": [
    {
     "name": "stderr",
     "output_type": "stream",
     "text": [
      "<ipython-input-501-903399b2a1e8>:1: SettingWithCopyWarning: \n",
      "A value is trying to be set on a copy of a slice from a DataFrame.\n",
      "Try using .loc[row_indexer,col_indexer] = value instead\n",
      "\n",
      "See the caveats in the documentation: https://pandas.pydata.org/pandas-docs/stable/user_guide/indexing.html#returning-a-view-versus-a-copy\n",
      "  filt_nursery[\"category\"] = \"nursery\"\n"
     ]
    }
   ],
   "source": [
    "filt_nursery[\"category\"] = \"nursery\""
   ]
  },
  {
   "cell_type": "code",
   "execution_count": 558,
   "metadata": {},
   "outputs": [
    {
     "data": {
      "text/html": [
       "<div>\n",
       "<style scoped>\n",
       "    .dataframe tbody tr th:only-of-type {\n",
       "        vertical-align: middle;\n",
       "    }\n",
       "\n",
       "    .dataframe tbody tr th {\n",
       "        vertical-align: top;\n",
       "    }\n",
       "\n",
       "    .dataframe thead th {\n",
       "        text-align: right;\n",
       "    }\n",
       "</style>\n",
       "<table border=\"1\" class=\"dataframe\">\n",
       "  <thead>\n",
       "    <tr style=\"text-align: right;\">\n",
       "      <th></th>\n",
       "      <th>name</th>\n",
       "      <th>latitude</th>\n",
       "      <th>longitude</th>\n",
       "      <th>distance</th>\n",
       "      <th>company</th>\n",
       "      <th>category</th>\n",
       "    </tr>\n",
       "  </thead>\n",
       "  <tbody>\n",
       "    <tr>\n",
       "      <th>0</th>\n",
       "      <td>Neighborhood Playgarden</td>\n",
       "      <td>37.756829</td>\n",
       "      <td>-122.440666</td>\n",
       "      <td>1267</td>\n",
       "      <td>Netbiscuits</td>\n",
       "      <td>nursery</td>\n",
       "    </tr>\n",
       "    <tr>\n",
       "      <th>1</th>\n",
       "      <td>Rocky Mountain School</td>\n",
       "      <td>37.766022</td>\n",
       "      <td>-122.438141</td>\n",
       "      <td>1598</td>\n",
       "      <td>Netbiscuits</td>\n",
       "      <td>nursery</td>\n",
       "    </tr>\n",
       "    <tr>\n",
       "      <th>2</th>\n",
       "      <td>Judith Baker CD</td>\n",
       "      <td>37.776839</td>\n",
       "      <td>-122.411802</td>\n",
       "      <td>2747</td>\n",
       "      <td>Netbiscuits</td>\n",
       "      <td>nursery</td>\n",
       "    </tr>\n",
       "    <tr>\n",
       "      <th>3</th>\n",
       "      <td>Morning Glory Nursery School</td>\n",
       "      <td>37.776355</td>\n",
       "      <td>-122.443699</td>\n",
       "      <td>2817</td>\n",
       "      <td>Netbiscuits</td>\n",
       "      <td>nursery</td>\n",
       "    </tr>\n",
       "    <tr>\n",
       "      <th>4</th>\n",
       "      <td>C5 Children's School</td>\n",
       "      <td>37.778864</td>\n",
       "      <td>-122.414584</td>\n",
       "      <td>2850</td>\n",
       "      <td>Netbiscuits</td>\n",
       "      <td>nursery</td>\n",
       "    </tr>\n",
       "  </tbody>\n",
       "</table>\n",
       "</div>"
      ],
      "text/plain": [
       "                           name   latitude   longitude  distance      company  \\\n",
       "0       Neighborhood Playgarden  37.756829 -122.440666      1267  Netbiscuits   \n",
       "1         Rocky Mountain School  37.766022 -122.438141      1598  Netbiscuits   \n",
       "2               Judith Baker CD  37.776839 -122.411802      2747  Netbiscuits   \n",
       "3  Morning Glory Nursery School  37.776355 -122.443699      2817  Netbiscuits   \n",
       "4          C5 Children's School  37.778864 -122.414584      2850  Netbiscuits   \n",
       "\n",
       "  category  \n",
       "0  nursery  \n",
       "1  nursery  \n",
       "2  nursery  \n",
       "3  nursery  \n",
       "4  nursery  "
      ]
     },
     "execution_count": 558,
     "metadata": {},
     "output_type": "execute_result"
    }
   ],
   "source": [
    "filt_nursery.head()"
   ]
  },
  {
   "cell_type": "code",
   "execution_count": 560,
   "metadata": {},
   "outputs": [
    {
     "data": {
      "text/plain": [
       "company\n",
       "Digg            5\n",
       "Popego         13\n",
       "Ecolect        16\n",
       "Netbiscuits    17\n",
       "Name: category, dtype: int64"
      ]
     },
     "execution_count": 560,
     "metadata": {},
     "output_type": "execute_result"
    }
   ],
   "source": [
    "filt_nursery.groupby(\"company\")[\"category\"].count().sort_values()"
   ]
  },
  {
   "cell_type": "markdown",
   "metadata": {},
   "source": [
    "### 1.2 Now let´s look for  starbucks in the area:"
   ]
  },
  {
   "cell_type": "code",
   "execution_count": 506,
   "metadata": {},
   "outputs": [],
   "source": [
    "net_sbucks = CallApi(netbiscuits)\n",
    "net_sbucks= net_sbucks.get(\"response\")\n",
    "net_sbucks = net_sbucks.get(\"groups\")[0]\n",
    "net_sbucks= net_sbucks.get(\"items\")"
   ]
  },
  {
   "cell_type": "code",
   "execution_count": 507,
   "metadata": {},
   "outputs": [],
   "source": [
    "eco_sbucks = CallApi(ecolect)\n",
    "eco_sbucks = eco_sbucks.get(\"response\")\n",
    "eco_sbucks = eco_sbucks.get(\"groups\")[0]\n",
    "eco_sbucks = eco_sbucks.get(\"items\")"
   ]
  },
  {
   "cell_type": "code",
   "execution_count": 508,
   "metadata": {},
   "outputs": [],
   "source": [
    "po_sbucks = CallApi(popego)\n",
    "po_sbucks = po_sbucks.get(\"response\")\n",
    "po_sbucks = po_sbucks.get(\"groups\")[0]\n",
    "po_sbucks = po_sbucks.get(\"items\")"
   ]
  },
  {
   "cell_type": "code",
   "execution_count": 509,
   "metadata": {},
   "outputs": [],
   "source": [
    "digg_sbucks = CallApi(digg)\n",
    "digg_sbucks= digg_sbucks.get(\"response\")\n",
    "digg_sbucks = digg_sbucks.get(\"groups\")[0]\n",
    "digg_sbucks = digg_sbucks.get(\"items\")"
   ]
  },
  {
   "cell_type": "code",
   "execution_count": 544,
   "metadata": {},
   "outputs": [],
   "source": [
    "dfdigg_sbucks = pd.DataFrame(digg_sbucks_spotting)"
   ]
  },
  {
   "cell_type": "code",
   "execution_count": 545,
   "metadata": {},
   "outputs": [],
   "source": [
    "dfdigg_sbucks[\"company\"] = \"Popego\""
   ]
  },
  {
   "cell_type": "code",
   "execution_count": 546,
   "metadata": {},
   "outputs": [],
   "source": [
    "dfdigg_sbucks[\"category\"] = \"starbucks\""
   ]
  },
  {
   "cell_type": "code",
   "execution_count": 550,
   "metadata": {},
   "outputs": [
    {
     "data": {
      "text/html": [
       "<div>\n",
       "<style scoped>\n",
       "    .dataframe tbody tr th:only-of-type {\n",
       "        vertical-align: middle;\n",
       "    }\n",
       "\n",
       "    .dataframe tbody tr th {\n",
       "        vertical-align: top;\n",
       "    }\n",
       "\n",
       "    .dataframe thead th {\n",
       "        text-align: right;\n",
       "    }\n",
       "</style>\n",
       "<table border=\"1\" class=\"dataframe\">\n",
       "  <thead>\n",
       "    <tr style=\"text-align: right;\">\n",
       "      <th></th>\n",
       "      <th>name</th>\n",
       "      <th>latitude</th>\n",
       "      <th>longitude</th>\n",
       "      <th>distance</th>\n",
       "      <th>company</th>\n",
       "      <th>category</th>\n",
       "    </tr>\n",
       "  </thead>\n",
       "  <tbody>\n",
       "    <tr>\n",
       "      <th>0</th>\n",
       "      <td>Starbucks</td>\n",
       "      <td>37.767287</td>\n",
       "      <td>-122.393926</td>\n",
       "      <td>289</td>\n",
       "      <td>Popego</td>\n",
       "      <td>starbucks</td>\n",
       "    </tr>\n",
       "    <tr>\n",
       "      <th>1</th>\n",
       "      <td>Starbucks</td>\n",
       "      <td>37.771196</td>\n",
       "      <td>-122.389364</td>\n",
       "      <td>851</td>\n",
       "      <td>Popego</td>\n",
       "      <td>starbucks</td>\n",
       "    </tr>\n",
       "    <tr>\n",
       "      <th>2</th>\n",
       "      <td>Starbucks</td>\n",
       "      <td>37.765878</td>\n",
       "      <td>-122.403449</td>\n",
       "      <td>795</td>\n",
       "      <td>Popego</td>\n",
       "      <td>starbucks</td>\n",
       "    </tr>\n",
       "    <tr>\n",
       "      <th>3</th>\n",
       "      <td>Starbucks</td>\n",
       "      <td>37.778704</td>\n",
       "      <td>-122.396727</td>\n",
       "      <td>1568</td>\n",
       "      <td>Popego</td>\n",
       "      <td>starbucks</td>\n",
       "    </tr>\n",
       "    <tr>\n",
       "      <th>4</th>\n",
       "      <td>Starbucks</td>\n",
       "      <td>37.766857</td>\n",
       "      <td>-122.409428</td>\n",
       "      <td>1332</td>\n",
       "      <td>Popego</td>\n",
       "      <td>starbucks</td>\n",
       "    </tr>\n",
       "  </tbody>\n",
       "</table>\n",
       "</div>"
      ],
      "text/plain": [
       "        name   latitude   longitude  distance company   category\n",
       "0  Starbucks  37.767287 -122.393926       289  Popego  starbucks\n",
       "1  Starbucks  37.771196 -122.389364       851  Popego  starbucks\n",
       "2  Starbucks  37.765878 -122.403449       795  Popego  starbucks\n",
       "3  Starbucks  37.778704 -122.396727      1568  Popego  starbucks\n",
       "4  Starbucks  37.766857 -122.409428      1332  Popego  starbucks"
      ]
     },
     "execution_count": 550,
     "metadata": {},
     "output_type": "execute_result"
    }
   ],
   "source": [
    "dfdigg_sbucks.head()"
   ]
  },
  {
   "cell_type": "code",
   "execution_count": 780,
   "metadata": {},
   "outputs": [],
   "source": [
    "dfdigg_sbucks[\"company\"]= \"Digg\""
   ]
  },
  {
   "cell_type": "code",
   "execution_count": 783,
   "metadata": {},
   "outputs": [],
   "source": [
    "ttal_sbucks = [dfnet_sbucks, dfeco_sbucks, dfpo_sbucks, dfdigg_sbucks]"
   ]
  },
  {
   "cell_type": "code",
   "execution_count": 784,
   "metadata": {},
   "outputs": [],
   "source": [
    "ofi_sbucks = pd.concat(ttal_sbucks)"
   ]
  },
  {
   "cell_type": "code",
   "execution_count": 785,
   "metadata": {},
   "outputs": [],
   "source": [
    "sbucks_filtered = ofi_sbucks[ofi_sbucks[\"distance\"] < 1000]"
   ]
  },
  {
   "cell_type": "code",
   "execution_count": 786,
   "metadata": {},
   "outputs": [],
   "source": [
    "count_sbucks = pd.DataFrame(sbucks_filtered.groupby(\"company\")[\"category\"].count().sort_values())"
   ]
  },
  {
   "cell_type": "code",
   "execution_count": 787,
   "metadata": {},
   "outputs": [],
   "source": [
    "\n",
    "count_sbucks.columns = [\"Starbucks < 1000m\"]"
   ]
  },
  {
   "cell_type": "markdown",
   "metadata": {},
   "source": [
    "#### Joining DF:"
   ]
  },
  {
   "cell_type": "code",
   "execution_count": 815,
   "metadata": {},
   "outputs": [],
   "source": [
    "total_locations = [sbucks_filtered,filt_nursery]"
   ]
  },
  {
   "cell_type": "code",
   "execution_count": 790,
   "metadata": {},
   "outputs": [],
   "source": [
    "data_map = pd.concat(total_locations)"
   ]
  },
  {
   "cell_type": "code",
   "execution_count": 791,
   "metadata": {},
   "outputs": [
    {
     "data": {
      "text/html": [
       "<div>\n",
       "<style scoped>\n",
       "    .dataframe tbody tr th:only-of-type {\n",
       "        vertical-align: middle;\n",
       "    }\n",
       "\n",
       "    .dataframe tbody tr th {\n",
       "        vertical-align: top;\n",
       "    }\n",
       "\n",
       "    .dataframe thead th {\n",
       "        text-align: right;\n",
       "    }\n",
       "</style>\n",
       "<table border=\"1\" class=\"dataframe\">\n",
       "  <thead>\n",
       "    <tr style=\"text-align: right;\">\n",
       "      <th></th>\n",
       "      <th>name</th>\n",
       "      <th>latitude</th>\n",
       "      <th>longitude</th>\n",
       "      <th>distance</th>\n",
       "      <th>company</th>\n",
       "      <th>category</th>\n",
       "    </tr>\n",
       "  </thead>\n",
       "  <tbody>\n",
       "    <tr>\n",
       "      <th>0</th>\n",
       "      <td>Starbucks</td>\n",
       "      <td>37.760941</td>\n",
       "      <td>-122.434608</td>\n",
       "      <td>973</td>\n",
       "      <td>Netbiscuits</td>\n",
       "      <td>starbucks</td>\n",
       "    </tr>\n",
       "    <tr>\n",
       "      <th>1</th>\n",
       "      <td>Starbucks</td>\n",
       "      <td>37.751373</td>\n",
       "      <td>-122.431825</td>\n",
       "      <td>625</td>\n",
       "      <td>Netbiscuits</td>\n",
       "      <td>starbucks</td>\n",
       "    </tr>\n",
       "    <tr>\n",
       "      <th>0</th>\n",
       "      <td>Starbucks</td>\n",
       "      <td>37.784143</td>\n",
       "      <td>-122.407596</td>\n",
       "      <td>850</td>\n",
       "      <td>Ecolect</td>\n",
       "      <td>starbucks</td>\n",
       "    </tr>\n",
       "    <tr>\n",
       "      <th>2</th>\n",
       "      <td>Starbucks</td>\n",
       "      <td>37.777090</td>\n",
       "      <td>-122.417298</td>\n",
       "      <td>633</td>\n",
       "      <td>Ecolect</td>\n",
       "      <td>starbucks</td>\n",
       "    </tr>\n",
       "    <tr>\n",
       "      <th>6</th>\n",
       "      <td>Starbucks</td>\n",
       "      <td>37.770190</td>\n",
       "      <td>-122.403465</td>\n",
       "      <td>937</td>\n",
       "      <td>Ecolect</td>\n",
       "      <td>starbucks</td>\n",
       "    </tr>\n",
       "    <tr>\n",
       "      <th>...</th>\n",
       "      <td>...</td>\n",
       "      <td>...</td>\n",
       "      <td>...</td>\n",
       "      <td>...</td>\n",
       "      <td>...</td>\n",
       "      <td>...</td>\n",
       "    </tr>\n",
       "    <tr>\n",
       "      <th>11</th>\n",
       "      <td>Friends Of Potrero Hill Nursery School</td>\n",
       "      <td>37.758353</td>\n",
       "      <td>-122.389650</td>\n",
       "      <td>828</td>\n",
       "      <td>Ecolect</td>\n",
       "      <td>nursery</td>\n",
       "    </tr>\n",
       "    <tr>\n",
       "      <th>12</th>\n",
       "      <td>Judith Baker CD</td>\n",
       "      <td>37.776839</td>\n",
       "      <td>-122.411802</td>\n",
       "      <td>2032</td>\n",
       "      <td>Ecolect</td>\n",
       "      <td>nursery</td>\n",
       "    </tr>\n",
       "    <tr>\n",
       "      <th>13</th>\n",
       "      <td>C5 Children's School</td>\n",
       "      <td>37.778864</td>\n",
       "      <td>-122.414584</td>\n",
       "      <td>2364</td>\n",
       "      <td>Ecolect</td>\n",
       "      <td>nursery</td>\n",
       "    </tr>\n",
       "    <tr>\n",
       "      <th>14</th>\n",
       "      <td>Kids by the Bay - Civic Center</td>\n",
       "      <td>37.779430</td>\n",
       "      <td>-122.411819</td>\n",
       "      <td>2235</td>\n",
       "      <td>Ecolect</td>\n",
       "      <td>nursery</td>\n",
       "    </tr>\n",
       "    <tr>\n",
       "      <th>15</th>\n",
       "      <td>Kids by the Bay - Financial District</td>\n",
       "      <td>37.785471</td>\n",
       "      <td>-122.398037</td>\n",
       "      <td>2329</td>\n",
       "      <td>Ecolect</td>\n",
       "      <td>nursery</td>\n",
       "    </tr>\n",
       "  </tbody>\n",
       "</table>\n",
       "<p>64 rows × 6 columns</p>\n",
       "</div>"
      ],
      "text/plain": [
       "                                      name   latitude   longitude  distance  \\\n",
       "0                                Starbucks  37.760941 -122.434608       973   \n",
       "1                                Starbucks  37.751373 -122.431825       625   \n",
       "0                                Starbucks  37.784143 -122.407596       850   \n",
       "2                                Starbucks  37.777090 -122.417298       633   \n",
       "6                                Starbucks  37.770190 -122.403465       937   \n",
       "..                                     ...        ...         ...       ...   \n",
       "11  Friends Of Potrero Hill Nursery School  37.758353 -122.389650       828   \n",
       "12                         Judith Baker CD  37.776839 -122.411802      2032   \n",
       "13                    C5 Children's School  37.778864 -122.414584      2364   \n",
       "14          Kids by the Bay - Civic Center  37.779430 -122.411819      2235   \n",
       "15    Kids by the Bay - Financial District  37.785471 -122.398037      2329   \n",
       "\n",
       "        company   category  \n",
       "0   Netbiscuits  starbucks  \n",
       "1   Netbiscuits  starbucks  \n",
       "0       Ecolect  starbucks  \n",
       "2       Ecolect  starbucks  \n",
       "6       Ecolect  starbucks  \n",
       "..          ...        ...  \n",
       "11      Ecolect    nursery  \n",
       "12      Ecolect    nursery  \n",
       "13      Ecolect    nursery  \n",
       "14      Ecolect    nursery  \n",
       "15      Ecolect    nursery  \n",
       "\n",
       "[64 rows x 6 columns]"
      ]
     },
     "execution_count": 791,
     "metadata": {},
     "output_type": "execute_result"
    }
   ],
   "source": [
    "data_map"
   ]
  },
  {
   "cell_type": "markdown",
   "metadata": {},
   "source": [
    "### 1.3 Karaoke"
   ]
  },
  {
   "cell_type": "code",
   "execution_count": 572,
   "metadata": {},
   "outputs": [],
   "source": [
    "net_karaoke = CallApi(netbiscuits)\n",
    "net_karaoke= net_karaoke.get(\"response\")\n",
    "net_karaoke = net_karaoke.get(\"groups\")[0]\n",
    "net_karaoke= net_karaoke.get(\"items\")"
   ]
  },
  {
   "cell_type": "code",
   "execution_count": 573,
   "metadata": {},
   "outputs": [],
   "source": [
    "eco_karaoke = CallApi(ecolect)\n",
    "eco_karaoke = eco_karaoke.get(\"response\")\n",
    "eco_karaoke = eco_karaoke.get(\"groups\")[0]\n",
    "eco_karaoke = eco_karaoke.get(\"items\")"
   ]
  },
  {
   "cell_type": "code",
   "execution_count": 574,
   "metadata": {},
   "outputs": [],
   "source": [
    "po_karaoke = CallApi(popego)\n",
    "po_karaoke = po_karaoke.get(\"response\")\n",
    "po_karaoke = po_karaoke.get(\"groups\")[0]\n",
    "po_karaoke = po_karaoke.get(\"items\")"
   ]
  },
  {
   "cell_type": "code",
   "execution_count": 575,
   "metadata": {},
   "outputs": [],
   "source": [
    "digg_karaoke = CallApi(digg)\n",
    "digg_karaoke= digg_karaoke.get(\"response\")\n",
    "digg_karaoke = digg_karaoke.get(\"groups\")[0]\n",
    "digg_karaoke = digg_karaoke.get(\"items\")"
   ]
  },
  {
   "cell_type": "code",
   "execution_count": 590,
   "metadata": {},
   "outputs": [],
   "source": [
    "dfnet_kara = pd.DataFrame(net_kara_spotting)"
   ]
  },
  {
   "cell_type": "code",
   "execution_count": 592,
   "metadata": {},
   "outputs": [
    {
     "data": {
      "text/html": [
       "<div>\n",
       "<style scoped>\n",
       "    .dataframe tbody tr th:only-of-type {\n",
       "        vertical-align: middle;\n",
       "    }\n",
       "\n",
       "    .dataframe tbody tr th {\n",
       "        vertical-align: top;\n",
       "    }\n",
       "\n",
       "    .dataframe thead th {\n",
       "        text-align: right;\n",
       "    }\n",
       "</style>\n",
       "<table border=\"1\" class=\"dataframe\">\n",
       "  <thead>\n",
       "    <tr style=\"text-align: right;\">\n",
       "      <th></th>\n",
       "      <th>name</th>\n",
       "      <th>latitude</th>\n",
       "      <th>longitude</th>\n",
       "      <th>distance</th>\n",
       "    </tr>\n",
       "  </thead>\n",
       "  <tbody>\n",
       "    <tr>\n",
       "      <th>0</th>\n",
       "      <td>500 Club</td>\n",
       "      <td>37.763127</td>\n",
       "      <td>-122.424067</td>\n",
       "      <td>924</td>\n",
       "    </tr>\n",
       "    <tr>\n",
       "      <th>1</th>\n",
       "      <td>El Rio</td>\n",
       "      <td>37.746845</td>\n",
       "      <td>-122.419465</td>\n",
       "      <td>1099</td>\n",
       "    </tr>\n",
       "    <tr>\n",
       "      <th>2</th>\n",
       "      <td>Martuni's</td>\n",
       "      <td>37.772180</td>\n",
       "      <td>-122.422838</td>\n",
       "      <td>1934</td>\n",
       "    </tr>\n",
       "    <tr>\n",
       "      <th>3</th>\n",
       "      <td>Amnesia</td>\n",
       "      <td>37.759309</td>\n",
       "      <td>-122.421232</td>\n",
       "      <td>660</td>\n",
       "    </tr>\n",
       "    <tr>\n",
       "      <th>4</th>\n",
       "      <td>Dalva</td>\n",
       "      <td>37.764749</td>\n",
       "      <td>-122.422434</td>\n",
       "      <td>1137</td>\n",
       "    </tr>\n",
       "  </tbody>\n",
       "</table>\n",
       "</div>"
      ],
      "text/plain": [
       "        name   latitude   longitude  distance\n",
       "0   500 Club  37.763127 -122.424067       924\n",
       "1     El Rio  37.746845 -122.419465      1099\n",
       "2  Martuni's  37.772180 -122.422838      1934\n",
       "3    Amnesia  37.759309 -122.421232       660\n",
       "4      Dalva  37.764749 -122.422434      1137"
      ]
     },
     "execution_count": 592,
     "metadata": {},
     "output_type": "execute_result"
    }
   ],
   "source": [
    "dfnet_kara.head()"
   ]
  },
  {
   "cell_type": "code",
   "execution_count": 600,
   "metadata": {},
   "outputs": [],
   "source": [
    "dfeco_kara[\"company\"] = \"Ecolect\""
   ]
  },
  {
   "cell_type": "code",
   "execution_count": 601,
   "metadata": {},
   "outputs": [],
   "source": [
    "dfeco_kara[\"category\"] = \"karaoke\""
   ]
  },
  {
   "cell_type": "code",
   "execution_count": 602,
   "metadata": {},
   "outputs": [],
   "source": [
    "ttal_kara = [dfdigg_kara, dfeco_kara, dfnet_kara, dfpo_kara]"
   ]
  },
  {
   "cell_type": "code",
   "execution_count": 603,
   "metadata": {},
   "outputs": [],
   "source": [
    "karaokes = pd.concat(ttal_kara)"
   ]
  },
  {
   "cell_type": "code",
   "execution_count": 604,
   "metadata": {},
   "outputs": [
    {
     "data": {
      "text/html": [
       "<div>\n",
       "<style scoped>\n",
       "    .dataframe tbody tr th:only-of-type {\n",
       "        vertical-align: middle;\n",
       "    }\n",
       "\n",
       "    .dataframe tbody tr th {\n",
       "        vertical-align: top;\n",
       "    }\n",
       "\n",
       "    .dataframe thead th {\n",
       "        text-align: right;\n",
       "    }\n",
       "</style>\n",
       "<table border=\"1\" class=\"dataframe\">\n",
       "  <thead>\n",
       "    <tr style=\"text-align: right;\">\n",
       "      <th></th>\n",
       "      <th>name</th>\n",
       "      <th>latitude</th>\n",
       "      <th>longitude</th>\n",
       "      <th>distance</th>\n",
       "      <th>company</th>\n",
       "      <th>category</th>\n",
       "    </tr>\n",
       "  </thead>\n",
       "  <tbody>\n",
       "    <tr>\n",
       "      <th>0</th>\n",
       "      <td>Cat Club</td>\n",
       "      <td>37.775324</td>\n",
       "      <td>-122.409901</td>\n",
       "      <td>1795</td>\n",
       "      <td>Digg</td>\n",
       "      <td>karaoke</td>\n",
       "    </tr>\n",
       "    <tr>\n",
       "      <th>1</th>\n",
       "      <td>Martuni's</td>\n",
       "      <td>37.772180</td>\n",
       "      <td>-122.422838</td>\n",
       "      <td>2626</td>\n",
       "      <td>Digg</td>\n",
       "      <td>karaoke</td>\n",
       "    </tr>\n",
       "    <tr>\n",
       "      <th>2</th>\n",
       "      <td>500 Club</td>\n",
       "      <td>37.763127</td>\n",
       "      <td>-122.424067</td>\n",
       "      <td>2606</td>\n",
       "      <td>Digg</td>\n",
       "      <td>karaoke</td>\n",
       "    </tr>\n",
       "    <tr>\n",
       "      <th>3</th>\n",
       "      <td>RVIP Lounge &amp; Karoke Cabaret</td>\n",
       "      <td>37.775855</td>\n",
       "      <td>-122.408851</td>\n",
       "      <td>1767</td>\n",
       "      <td>Digg</td>\n",
       "      <td>karaoke</td>\n",
       "    </tr>\n",
       "    <tr>\n",
       "      <th>4</th>\n",
       "      <td>Butter</td>\n",
       "      <td>37.771127</td>\n",
       "      <td>-122.413315</td>\n",
       "      <td>1800</td>\n",
       "      <td>Digg</td>\n",
       "      <td>karaoke</td>\n",
       "    </tr>\n",
       "  </tbody>\n",
       "</table>\n",
       "</div>"
      ],
      "text/plain": [
       "                           name   latitude   longitude  distance company  \\\n",
       "0                      Cat Club  37.775324 -122.409901      1795    Digg   \n",
       "1                     Martuni's  37.772180 -122.422838      2626    Digg   \n",
       "2                      500 Club  37.763127 -122.424067      2606    Digg   \n",
       "3  RVIP Lounge & Karoke Cabaret  37.775855 -122.408851      1767    Digg   \n",
       "4                        Butter  37.771127 -122.413315      1800    Digg   \n",
       "\n",
       "  category  \n",
       "0  karaoke  \n",
       "1  karaoke  \n",
       "2  karaoke  \n",
       "3  karaoke  \n",
       "4  karaoke  "
      ]
     },
     "execution_count": 604,
     "metadata": {},
     "output_type": "execute_result"
    }
   ],
   "source": [
    "karaokes.head()"
   ]
  },
  {
   "cell_type": "code",
   "execution_count": 606,
   "metadata": {},
   "outputs": [],
   "source": [
    "karaoke_filt= karaokes[karaokes[\"distance\"]<3000]"
   ]
  },
  {
   "cell_type": "code",
   "execution_count": 631,
   "metadata": {},
   "outputs": [],
   "source": [
    "count_kara = pd.DataFrame(karaoke_filt.groupby(\"company\")[\"category\"].count().sort_values())"
   ]
  },
  {
   "cell_type": "code",
   "execution_count": 633,
   "metadata": {},
   "outputs": [],
   "source": [
    "count_kara.columns = [\"Karaoke < 3000m\"]"
   ]
  },
  {
   "cell_type": "markdown",
   "metadata": {},
   "source": [
    "### 4. Rock climbiing spots"
   ]
  },
  {
   "cell_type": "code",
   "execution_count": 816,
   "metadata": {},
   "outputs": [],
   "source": [
    "net_rock = CallApi(netbiscuits)\n",
    "net_rock= net_rock.get(\"response\")\n",
    "net_rock = net_rock.get(\"groups\")[0]\n",
    "net_rock= net_rock.get(\"items\")"
   ]
  },
  {
   "cell_type": "code",
   "execution_count": 648,
   "metadata": {},
   "outputs": [],
   "source": [
    "eco_rock = CallApi(ecolect)\n",
    "eco_rock = eco_rock.get(\"response\")\n",
    "eco_rock = eco_rock.get(\"groups\")[0]\n",
    "eco_rock = eco_rock.get(\"items\")"
   ]
  },
  {
   "cell_type": "code",
   "execution_count": 649,
   "metadata": {},
   "outputs": [],
   "source": [
    "po_rock = CallApi(popego)\n",
    "po_rock = po_rock.get(\"response\")\n",
    "po_rock = po_rock.get(\"groups\")[0]\n",
    "po_rock = po_rock.get(\"items\")"
   ]
  },
  {
   "cell_type": "code",
   "execution_count": 650,
   "metadata": {},
   "outputs": [],
   "source": [
    "digg_rock = CallApi(digg)\n",
    "digg_rock= digg_rock.get(\"response\")\n",
    "digg_rock = digg_rock.get(\"groups\")[0]\n",
    "digg_rock = digg_rock.get(\"items\")"
   ]
  },
  {
   "cell_type": "code",
   "execution_count": 667,
   "metadata": {},
   "outputs": [],
   "source": [
    "dfeco_rock = pd.DataFrame(eco_rock_spotting)"
   ]
  },
  {
   "cell_type": "code",
   "execution_count": 687,
   "metadata": {},
   "outputs": [],
   "source": [
    "dfeco_rock[\"company\"] = \"Ecolect\""
   ]
  },
  {
   "cell_type": "code",
   "execution_count": 682,
   "metadata": {},
   "outputs": [],
   "source": [
    "dfdigg_rock[\"category\"] = \"sport\""
   ]
  },
  {
   "cell_type": "code",
   "execution_count": 683,
   "metadata": {},
   "outputs": [
    {
     "data": {
      "text/html": [
       "<div>\n",
       "<style scoped>\n",
       "    .dataframe tbody tr th:only-of-type {\n",
       "        vertical-align: middle;\n",
       "    }\n",
       "\n",
       "    .dataframe tbody tr th {\n",
       "        vertical-align: top;\n",
       "    }\n",
       "\n",
       "    .dataframe thead th {\n",
       "        text-align: right;\n",
       "    }\n",
       "</style>\n",
       "<table border=\"1\" class=\"dataframe\">\n",
       "  <thead>\n",
       "    <tr style=\"text-align: right;\">\n",
       "      <th></th>\n",
       "      <th>name</th>\n",
       "      <th>latitude</th>\n",
       "      <th>longitude</th>\n",
       "      <th>distance</th>\n",
       "      <th>company</th>\n",
       "      <th>category</th>\n",
       "    </tr>\n",
       "  </thead>\n",
       "  <tbody>\n",
       "    <tr>\n",
       "      <th>0</th>\n",
       "      <td>The Tree Fort</td>\n",
       "      <td>37.763276</td>\n",
       "      <td>-122.444926</td>\n",
       "      <td>4438</td>\n",
       "      <td>Digg</td>\n",
       "      <td>sport</td>\n",
       "    </tr>\n",
       "    <tr>\n",
       "      <th>1</th>\n",
       "      <td>Recology Mixed Inenerts Pile</td>\n",
       "      <td>37.708714</td>\n",
       "      <td>-122.397301</td>\n",
       "      <td>6240</td>\n",
       "      <td>Digg</td>\n",
       "      <td>sport</td>\n",
       "    </tr>\n",
       "  </tbody>\n",
       "</table>\n",
       "</div>"
      ],
      "text/plain": [
       "                           name   latitude   longitude  distance company  \\\n",
       "0                 The Tree Fort  37.763276 -122.444926      4438    Digg   \n",
       "1  Recology Mixed Inenerts Pile  37.708714 -122.397301      6240    Digg   \n",
       "\n",
       "  category  \n",
       "0    sport  \n",
       "1    sport  "
      ]
     },
     "execution_count": 683,
     "metadata": {},
     "output_type": "execute_result"
    }
   ],
   "source": [
    "dfdigg_rock"
   ]
  },
  {
   "cell_type": "code",
   "execution_count": 688,
   "metadata": {},
   "outputs": [],
   "source": [
    "ttal= [dfnet_rock, dfpo_rock, dfeco_rock, dfdigg_rock]"
   ]
  },
  {
   "cell_type": "code",
   "execution_count": 689,
   "metadata": {},
   "outputs": [],
   "source": [
    "rocks = pd.concat(ttal)"
   ]
  },
  {
   "cell_type": "code",
   "execution_count": 691,
   "metadata": {},
   "outputs": [],
   "source": [
    "rocks_filt = rocks[rocks[\"distance\"]<5000]"
   ]
  },
  {
   "cell_type": "markdown",
   "metadata": {},
   "source": [
    "### 4.Counting venues/office:\n"
   ]
  },
  {
   "cell_type": "code",
   "execution_count": 795,
   "metadata": {},
   "outputs": [],
   "source": [
    "counting = [count_sbucks, count_nursery, count_kara]"
   ]
  },
  {
   "cell_type": "code",
   "execution_count": 797,
   "metadata": {},
   "outputs": [],
   "source": [
    "data_count = pd.concat(counting)"
   ]
  },
  {
   "cell_type": "code",
   "execution_count": 818,
   "metadata": {},
   "outputs": [
    {
     "data": {
      "text/html": [
       "<div>\n",
       "<style scoped>\n",
       "    .dataframe tbody tr th:only-of-type {\n",
       "        vertical-align: middle;\n",
       "    }\n",
       "\n",
       "    .dataframe tbody tr th {\n",
       "        vertical-align: top;\n",
       "    }\n",
       "\n",
       "    .dataframe thead th {\n",
       "        text-align: right;\n",
       "    }\n",
       "</style>\n",
       "<table border=\"1\" class=\"dataframe\">\n",
       "  <thead>\n",
       "    <tr style=\"text-align: right;\">\n",
       "      <th></th>\n",
       "      <th>Starbucks &lt; 1000m</th>\n",
       "      <th>Nurseries &lt; 5000m</th>\n",
       "      <th>Karaoke &lt; 3000m</th>\n",
       "      <th>Rockclimbing spots &lt; 5000m</th>\n",
       "    </tr>\n",
       "    <tr>\n",
       "      <th>company</th>\n",
       "      <th></th>\n",
       "      <th></th>\n",
       "      <th></th>\n",
       "      <th></th>\n",
       "    </tr>\n",
       "  </thead>\n",
       "  <tbody>\n",
       "    <tr>\n",
       "      <th>Digg</th>\n",
       "      <td>4.0</td>\n",
       "      <td>5.0</td>\n",
       "      <td>26.0</td>\n",
       "      <td>1.0</td>\n",
       "    </tr>\n",
       "    <tr>\n",
       "      <th>Ecolect</th>\n",
       "      <td>5.0</td>\n",
       "      <td>16.0</td>\n",
       "      <td>17.0</td>\n",
       "      <td>1.0</td>\n",
       "    </tr>\n",
       "    <tr>\n",
       "      <th>Netbiscuits</th>\n",
       "      <td>2.0</td>\n",
       "      <td>17.0</td>\n",
       "      <td>24.0</td>\n",
       "      <td>1.0</td>\n",
       "    </tr>\n",
       "    <tr>\n",
       "      <th>Popego</th>\n",
       "      <td>2.0</td>\n",
       "      <td>13.0</td>\n",
       "      <td>31.0</td>\n",
       "      <td>1.0</td>\n",
       "    </tr>\n",
       "  </tbody>\n",
       "</table>\n",
       "</div>"
      ],
      "text/plain": [
       "             Starbucks < 1000m  Nurseries < 5000m  Karaoke < 3000m  \\\n",
       "company                                                              \n",
       "Digg                       4.0                5.0             26.0   \n",
       "Ecolect                    5.0               16.0             17.0   \n",
       "Netbiscuits                2.0               17.0             24.0   \n",
       "Popego                     2.0               13.0             31.0   \n",
       "\n",
       "             Rockclimbing spots < 5000m  \n",
       "company                                  \n",
       "Digg                                1.0  \n",
       "Ecolect                             1.0  \n",
       "Netbiscuits                         1.0  \n",
       "Popego                              1.0  "
      ]
     },
     "execution_count": 818,
     "metadata": {},
     "output_type": "execute_result"
    }
   ],
   "source": [
    "data_count.head()"
   ]
  },
  {
   "cell_type": "code",
   "execution_count": 770,
   "metadata": {},
   "outputs": [],
   "source": [
    "count_rocks = pd.DataFrame(rocks_filt.groupby(\"company\")[\"category\"].count().sort_values())"
   ]
  },
  {
   "cell_type": "code",
   "execution_count": 773,
   "metadata": {},
   "outputs": [
    {
     "data": {
      "text/html": [
       "<div>\n",
       "<style scoped>\n",
       "    .dataframe tbody tr th:only-of-type {\n",
       "        vertical-align: middle;\n",
       "    }\n",
       "\n",
       "    .dataframe tbody tr th {\n",
       "        vertical-align: top;\n",
       "    }\n",
       "\n",
       "    .dataframe thead th {\n",
       "        text-align: right;\n",
       "    }\n",
       "</style>\n",
       "<table border=\"1\" class=\"dataframe\">\n",
       "  <thead>\n",
       "    <tr style=\"text-align: right;\">\n",
       "      <th></th>\n",
       "      <th>Rockclimbing spots &lt; 5000m</th>\n",
       "    </tr>\n",
       "    <tr>\n",
       "      <th>company</th>\n",
       "      <th></th>\n",
       "    </tr>\n",
       "  </thead>\n",
       "  <tbody>\n",
       "    <tr>\n",
       "      <th>Digg</th>\n",
       "      <td>1</td>\n",
       "    </tr>\n",
       "    <tr>\n",
       "      <th>Ecolect</th>\n",
       "      <td>1</td>\n",
       "    </tr>\n",
       "    <tr>\n",
       "      <th>Netbiscuits</th>\n",
       "      <td>1</td>\n",
       "    </tr>\n",
       "    <tr>\n",
       "      <th>Popego</th>\n",
       "      <td>1</td>\n",
       "    </tr>\n",
       "  </tbody>\n",
       "</table>\n",
       "</div>"
      ],
      "text/plain": [
       "             Rockclimbing spots < 5000m\n",
       "company                                \n",
       "Digg                                  1\n",
       "Ecolect                               1\n",
       "Netbiscuits                           1\n",
       "Popego                                1"
      ]
     },
     "execution_count": 773,
     "metadata": {},
     "output_type": "execute_result"
    }
   ],
   "source": [
    "count_rocks"
   ]
  },
  {
   "cell_type": "code",
   "execution_count": 772,
   "metadata": {},
   "outputs": [],
   "source": [
    "count_rocks.columns = [\"Rockclimbing spots < 5000m\"]"
   ]
  },
  {
   "cell_type": "code",
   "execution_count": 799,
   "metadata": {},
   "outputs": [],
   "source": [
    "total = [data_count, count_rocks]"
   ]
  },
  {
   "cell_type": "code",
   "execution_count": 800,
   "metadata": {},
   "outputs": [],
   "source": [
    "total_count = pd.concat(total)"
   ]
  },
  {
   "cell_type": "code",
   "execution_count": 817,
   "metadata": {},
   "outputs": [
    {
     "data": {
      "text/html": [
       "<div>\n",
       "<style scoped>\n",
       "    .dataframe tbody tr th:only-of-type {\n",
       "        vertical-align: middle;\n",
       "    }\n",
       "\n",
       "    .dataframe tbody tr th {\n",
       "        vertical-align: top;\n",
       "    }\n",
       "\n",
       "    .dataframe thead th {\n",
       "        text-align: right;\n",
       "    }\n",
       "</style>\n",
       "<table border=\"1\" class=\"dataframe\">\n",
       "  <thead>\n",
       "    <tr style=\"text-align: right;\">\n",
       "      <th></th>\n",
       "      <th>Starbucks &lt; 1000m</th>\n",
       "      <th>Nurseries &lt; 5000m</th>\n",
       "      <th>Karaoke &lt; 3000m</th>\n",
       "      <th>Rockclimbing spots &lt; 5000m</th>\n",
       "    </tr>\n",
       "    <tr>\n",
       "      <th>company</th>\n",
       "      <th></th>\n",
       "      <th></th>\n",
       "      <th></th>\n",
       "      <th></th>\n",
       "    </tr>\n",
       "  </thead>\n",
       "  <tbody>\n",
       "    <tr>\n",
       "      <th>Netbiscuits</th>\n",
       "      <td>2.0</td>\n",
       "      <td>NaN</td>\n",
       "      <td>NaN</td>\n",
       "      <td>NaN</td>\n",
       "    </tr>\n",
       "    <tr>\n",
       "      <th>Popego</th>\n",
       "      <td>2.0</td>\n",
       "      <td>NaN</td>\n",
       "      <td>NaN</td>\n",
       "      <td>NaN</td>\n",
       "    </tr>\n",
       "    <tr>\n",
       "      <th>Digg</th>\n",
       "      <td>4.0</td>\n",
       "      <td>NaN</td>\n",
       "      <td>NaN</td>\n",
       "      <td>NaN</td>\n",
       "    </tr>\n",
       "    <tr>\n",
       "      <th>Ecolect</th>\n",
       "      <td>5.0</td>\n",
       "      <td>NaN</td>\n",
       "      <td>NaN</td>\n",
       "      <td>NaN</td>\n",
       "    </tr>\n",
       "    <tr>\n",
       "      <th>Digg</th>\n",
       "      <td>NaN</td>\n",
       "      <td>5.0</td>\n",
       "      <td>NaN</td>\n",
       "      <td>NaN</td>\n",
       "    </tr>\n",
       "  </tbody>\n",
       "</table>\n",
       "</div>"
      ],
      "text/plain": [
       "             Starbucks < 1000m  Nurseries < 5000m  Karaoke < 3000m  \\\n",
       "company                                                              \n",
       "Netbiscuits                2.0                NaN              NaN   \n",
       "Popego                     2.0                NaN              NaN   \n",
       "Digg                       4.0                NaN              NaN   \n",
       "Ecolect                    5.0                NaN              NaN   \n",
       "Digg                       NaN                5.0              NaN   \n",
       "\n",
       "             Rockclimbing spots < 5000m  \n",
       "company                                  \n",
       "Netbiscuits                         NaN  \n",
       "Popego                              NaN  \n",
       "Digg                                NaN  \n",
       "Ecolect                             NaN  \n",
       "Digg                                NaN  "
      ]
     },
     "execution_count": 817,
     "metadata": {},
     "output_type": "execute_result"
    }
   ],
   "source": [
    "total_count.head()"
   ]
  },
  {
   "cell_type": "code",
   "execution_count": 803,
   "metadata": {},
   "outputs": [],
   "source": [
    "data_count = pd.DataFrame(total_count.groupby(\"company\")[[\"Starbucks < 1000m\", \"Nurseries < 5000m\", \"Karaoke < 3000m\", \"Rockclimbing spots < 5000m\"]].max())"
   ]
  },
  {
   "cell_type": "code",
   "execution_count": 806,
   "metadata": {},
   "outputs": [
    {
     "data": {
      "text/html": [
       "<div>\n",
       "<style scoped>\n",
       "    .dataframe tbody tr th:only-of-type {\n",
       "        vertical-align: middle;\n",
       "    }\n",
       "\n",
       "    .dataframe tbody tr th {\n",
       "        vertical-align: top;\n",
       "    }\n",
       "\n",
       "    .dataframe thead th {\n",
       "        text-align: right;\n",
       "    }\n",
       "</style>\n",
       "<table border=\"1\" class=\"dataframe\">\n",
       "  <thead>\n",
       "    <tr style=\"text-align: right;\">\n",
       "      <th></th>\n",
       "      <th>Starbucks &lt; 1000m</th>\n",
       "      <th>Nurseries &lt; 5000m</th>\n",
       "      <th>Karaoke &lt; 3000m</th>\n",
       "      <th>Rockclimbing spots &lt; 5000m</th>\n",
       "    </tr>\n",
       "    <tr>\n",
       "      <th>company</th>\n",
       "      <th></th>\n",
       "      <th></th>\n",
       "      <th></th>\n",
       "      <th></th>\n",
       "    </tr>\n",
       "  </thead>\n",
       "  <tbody>\n",
       "    <tr>\n",
       "      <th>Digg</th>\n",
       "      <td>4.0</td>\n",
       "      <td>5.0</td>\n",
       "      <td>26.0</td>\n",
       "      <td>1.0</td>\n",
       "    </tr>\n",
       "    <tr>\n",
       "      <th>Ecolect</th>\n",
       "      <td>5.0</td>\n",
       "      <td>16.0</td>\n",
       "      <td>17.0</td>\n",
       "      <td>1.0</td>\n",
       "    </tr>\n",
       "    <tr>\n",
       "      <th>Netbiscuits</th>\n",
       "      <td>2.0</td>\n",
       "      <td>17.0</td>\n",
       "      <td>24.0</td>\n",
       "      <td>1.0</td>\n",
       "    </tr>\n",
       "    <tr>\n",
       "      <th>Popego</th>\n",
       "      <td>2.0</td>\n",
       "      <td>13.0</td>\n",
       "      <td>31.0</td>\n",
       "      <td>1.0</td>\n",
       "    </tr>\n",
       "  </tbody>\n",
       "</table>\n",
       "</div>"
      ],
      "text/plain": [
       "             Starbucks < 1000m  Nurseries < 5000m  Karaoke < 3000m  \\\n",
       "company                                                              \n",
       "Digg                       4.0                5.0             26.0   \n",
       "Ecolect                    5.0               16.0             17.0   \n",
       "Netbiscuits                2.0               17.0             24.0   \n",
       "Popego                     2.0               13.0             31.0   \n",
       "\n",
       "             Rockclimbing spots < 5000m  \n",
       "company                                  \n",
       "Digg                                1.0  \n",
       "Ecolect                             1.0  \n",
       "Netbiscuits                         1.0  \n",
       "Popego                              1.0  "
      ]
     },
     "execution_count": 806,
     "metadata": {},
     "output_type": "execute_result"
    }
   ],
   "source": [
    "data_count"
   ]
  },
  {
   "cell_type": "code",
   "execution_count": 804,
   "metadata": {},
   "outputs": [],
   "source": [
    "data_count.to_csv(\"data_count.csv\")"
   ]
  },
  {
   "cell_type": "markdown",
   "metadata": {},
   "source": [
    "***Karaoke***: 0.35\n",
    "\n",
    "***Nurseries***: will commpute for 0.30\n",
    "\n",
    "***Rockclimbing***: 0.20\n",
    "\n",
    "***Starbucks***: 0.15"
   ]
  },
  {
   "cell_type": "code",
   "execution_count": 1,
   "metadata": {},
   "outputs": [
    {
     "ename": "SyntaxError",
     "evalue": "unexpected EOF while parsing (<ipython-input-1-ebda580415a7>, line 2)",
     "output_type": "error",
     "traceback": [
      "\u001b[0;36m  File \u001b[0;32m\"<ipython-input-1-ebda580415a7>\"\u001b[0;36m, line \u001b[0;32m2\u001b[0m\n\u001b[0;31m    \u001b[0m\n\u001b[0m    ^\u001b[0m\n\u001b[0;31mSyntaxError\u001b[0m\u001b[0;31m:\u001b[0m unexpected EOF while parsing\n"
     ]
    }
   ],
   "source": [
    "pd.DataFrame(data_count.groupby(\"company\")[[\"Starbucks < 1000m\",\"Nurseries < 5000m\", \"Karaoke < 3000m\", \"Rockclimbing spots < 5000m\"]].agg([(\"Starbucks < 1000m\", lambda x: x*0.15), (\"Nurseries < 5000m\", lambda x: x*0.20), (\"Karaoke < 3000m\", lambda x: x*0.35), (\"Rockclimbing spots < 5000m\", lambda x: x*0.20)]) \n",
    "             "
   ]
  },
  {
   "cell_type": "code",
   "execution_count": 808,
   "metadata": {},
   "outputs": [
    {
     "data": {
      "text/plain": [
       "company\n",
       "Digg           0.60\n",
       "Ecolect        0.75\n",
       "Netbiscuits    0.30\n",
       "Popego         0.30\n",
       "Name: Starbucks < 1000m, dtype: float64"
      ]
     },
     "execution_count": 808,
     "metadata": {},
     "output_type": "execute_result"
    }
   ],
   "source": [
    "data_count[\"Starbucks < 1000m\"].apply(lambda x: x*0.15 )"
   ]
  },
  {
   "cell_type": "markdown",
   "metadata": {},
   "source": [
    "## 2. Joining Mongo + API data:"
   ]
  },
  {
   "cell_type": "markdown",
   "metadata": {},
   "source": [
    "### 2.1 Joining all API´s DF:"
   ]
  },
  {
   "cell_type": "code",
   "execution_count": 805,
   "metadata": {},
   "outputs": [],
   "source": [
    "datas = [data_map,karaoke_filt, rocks_filt]"
   ]
  },
  {
   "cell_type": "code",
   "execution_count": 693,
   "metadata": {},
   "outputs": [],
   "source": [
    "data_mapa = pd.concat(datas)"
   ]
  },
  {
   "cell_type": "code",
   "execution_count": 698,
   "metadata": {},
   "outputs": [
    {
     "data": {
      "text/html": [
       "<div>\n",
       "<style scoped>\n",
       "    .dataframe tbody tr th:only-of-type {\n",
       "        vertical-align: middle;\n",
       "    }\n",
       "\n",
       "    .dataframe tbody tr th {\n",
       "        vertical-align: top;\n",
       "    }\n",
       "\n",
       "    .dataframe thead th {\n",
       "        text-align: right;\n",
       "    }\n",
       "</style>\n",
       "<table border=\"1\" class=\"dataframe\">\n",
       "  <thead>\n",
       "    <tr style=\"text-align: right;\">\n",
       "      <th></th>\n",
       "      <th>name</th>\n",
       "      <th>latitude</th>\n",
       "      <th>longitude</th>\n",
       "      <th>distance</th>\n",
       "      <th>company</th>\n",
       "      <th>category</th>\n",
       "    </tr>\n",
       "  </thead>\n",
       "  <tbody>\n",
       "    <tr>\n",
       "      <th>0</th>\n",
       "      <td>Starbucks</td>\n",
       "      <td>37.760941</td>\n",
       "      <td>-122.434608</td>\n",
       "      <td>973</td>\n",
       "      <td>Netbiscuits</td>\n",
       "      <td>starbucks</td>\n",
       "    </tr>\n",
       "    <tr>\n",
       "      <th>1</th>\n",
       "      <td>Starbucks</td>\n",
       "      <td>37.751373</td>\n",
       "      <td>-122.431825</td>\n",
       "      <td>625</td>\n",
       "      <td>Netbiscuits</td>\n",
       "      <td>starbucks</td>\n",
       "    </tr>\n",
       "    <tr>\n",
       "      <th>0</th>\n",
       "      <td>Starbucks</td>\n",
       "      <td>37.784143</td>\n",
       "      <td>-122.407596</td>\n",
       "      <td>850</td>\n",
       "      <td>Ecolect</td>\n",
       "      <td>starbucks</td>\n",
       "    </tr>\n",
       "    <tr>\n",
       "      <th>2</th>\n",
       "      <td>Starbucks</td>\n",
       "      <td>37.777090</td>\n",
       "      <td>-122.417298</td>\n",
       "      <td>633</td>\n",
       "      <td>Ecolect</td>\n",
       "      <td>starbucks</td>\n",
       "    </tr>\n",
       "    <tr>\n",
       "      <th>6</th>\n",
       "      <td>Starbucks</td>\n",
       "      <td>37.770190</td>\n",
       "      <td>-122.403465</td>\n",
       "      <td>937</td>\n",
       "      <td>Ecolect</td>\n",
       "      <td>starbucks</td>\n",
       "    </tr>\n",
       "    <tr>\n",
       "      <th>...</th>\n",
       "      <td>...</td>\n",
       "      <td>...</td>\n",
       "      <td>...</td>\n",
       "      <td>...</td>\n",
       "      <td>...</td>\n",
       "      <td>...</td>\n",
       "    </tr>\n",
       "    <tr>\n",
       "      <th>30</th>\n",
       "      <td>Milo Lounge</td>\n",
       "      <td>37.785645</td>\n",
       "      <td>-122.430062</td>\n",
       "      <td>1096</td>\n",
       "      <td>Popego</td>\n",
       "      <td>karaoke</td>\n",
       "    </tr>\n",
       "    <tr>\n",
       "      <th>0</th>\n",
       "      <td>The Tree Fort</td>\n",
       "      <td>37.763276</td>\n",
       "      <td>-122.444926</td>\n",
       "      <td>1867</td>\n",
       "      <td>Netbiscuits</td>\n",
       "      <td>sport</td>\n",
       "    </tr>\n",
       "    <tr>\n",
       "      <th>0</th>\n",
       "      <td>The Tree Fort</td>\n",
       "      <td>37.763276</td>\n",
       "      <td>-122.444926</td>\n",
       "      <td>2699</td>\n",
       "      <td>Popego</td>\n",
       "      <td>sport</td>\n",
       "    </tr>\n",
       "    <tr>\n",
       "      <th>0</th>\n",
       "      <td>The Tree Fort</td>\n",
       "      <td>37.763276</td>\n",
       "      <td>-122.444926</td>\n",
       "      <td>3411</td>\n",
       "      <td>Ecolect</td>\n",
       "      <td>sport</td>\n",
       "    </tr>\n",
       "    <tr>\n",
       "      <th>0</th>\n",
       "      <td>The Tree Fort</td>\n",
       "      <td>37.763276</td>\n",
       "      <td>-122.444926</td>\n",
       "      <td>4438</td>\n",
       "      <td>Digg</td>\n",
       "      <td>sport</td>\n",
       "    </tr>\n",
       "  </tbody>\n",
       "</table>\n",
       "<p>166 rows × 6 columns</p>\n",
       "</div>"
      ],
      "text/plain": [
       "             name   latitude   longitude  distance      company   category\n",
       "0       Starbucks  37.760941 -122.434608       973  Netbiscuits  starbucks\n",
       "1       Starbucks  37.751373 -122.431825       625  Netbiscuits  starbucks\n",
       "0       Starbucks  37.784143 -122.407596       850      Ecolect  starbucks\n",
       "2       Starbucks  37.777090 -122.417298       633      Ecolect  starbucks\n",
       "6       Starbucks  37.770190 -122.403465       937      Ecolect  starbucks\n",
       "..            ...        ...         ...       ...          ...        ...\n",
       "30    Milo Lounge  37.785645 -122.430062      1096       Popego    karaoke\n",
       "0   The Tree Fort  37.763276 -122.444926      1867  Netbiscuits      sport\n",
       "0   The Tree Fort  37.763276 -122.444926      2699       Popego      sport\n",
       "0   The Tree Fort  37.763276 -122.444926      3411      Ecolect      sport\n",
       "0   The Tree Fort  37.763276 -122.444926      4438         Digg      sport\n",
       "\n",
       "[166 rows x 6 columns]"
      ]
     },
     "execution_count": 698,
     "metadata": {},
     "output_type": "execute_result"
    }
   ],
   "source": [
    "data_mapa"
   ]
  },
  {
   "cell_type": "code",
   "execution_count": 615,
   "metadata": {},
   "outputs": [
    {
     "data": {
      "text/plain": [
       "category\n",
       "karaoke      98\n",
       "nursery      51\n",
       "starbucks    13\n",
       "Name: company, dtype: int64"
      ]
     },
     "execution_count": 615,
     "metadata": {},
     "output_type": "execute_result"
    }
   ],
   "source": [
    "data_mapa.groupby(\"category\")[\"company\"].count()"
   ]
  },
  {
   "cell_type": "code",
   "execution_count": 699,
   "metadata": {},
   "outputs": [],
   "source": [
    "data_mapa.to_csv(\"api_requests.csv\")"
   ]
  },
  {
   "cell_type": "markdown",
   "metadata": {},
   "source": [
    "### 2.2 Adding Mongo:"
   ]
  },
  {
   "cell_type": "code",
   "execution_count": 738,
   "metadata": {},
   "outputs": [],
   "source": [
    "mongo = pd.read_csv(\"mongo_search.csv\")"
   ]
  },
  {
   "cell_type": "code",
   "execution_count": 740,
   "metadata": {},
   "outputs": [],
   "source": [
    "del mongo[\"Unnamed: 0\"]"
   ]
  },
  {
   "cell_type": "code",
   "execution_count": 742,
   "metadata": {},
   "outputs": [],
   "source": [
    "mongo[\"category\"] = \"offices\""
   ]
  },
  {
   "cell_type": "code",
   "execution_count": 744,
   "metadata": {},
   "outputs": [],
   "source": [
    "mongo_api = [data_mapa, mongo]"
   ]
  },
  {
   "cell_type": "code",
   "execution_count": 745,
   "metadata": {},
   "outputs": [],
   "source": [
    "data = pd.concat(mongo_api)"
   ]
  },
  {
   "cell_type": "code",
   "execution_count": 747,
   "metadata": {},
   "outputs": [],
   "source": [
    "data.to_csv(\"all_data.csv\")"
   ]
  }
 ],
 "metadata": {
  "kernelspec": {
   "display_name": "Python 3",
   "language": "python",
   "name": "python3"
  },
  "language_info": {
   "codemirror_mode": {
    "name": "ipython",
    "version": 3
   },
   "file_extension": ".py",
   "mimetype": "text/x-python",
   "name": "python",
   "nbconvert_exporter": "python",
   "pygments_lexer": "ipython3",
   "version": "3.9.1"
  }
 },
 "nbformat": 4,
 "nbformat_minor": 4
}
